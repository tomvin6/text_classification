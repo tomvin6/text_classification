{
 "cells": [
  {
   "cell_type": "markdown",
   "metadata": {},
   "source": [
    "in order to install NLTK stop words, run the following python commands -\n",
    "\n",
    "import nltk\n",
    "nltk.download()"
   ]
  },
  {
   "cell_type": "markdown",
   "metadata": {},
   "source": [
    "# Predict team using defect title"
   ]
  },
  {
   "cell_type": "markdown",
   "metadata": {},
   "source": [
    "in the following notebook, a model is built and trained using defects data from center. \n",
    "for predicting one field from defects form - team field."
   ]
  },
  {
   "cell_type": "markdown",
   "metadata": {},
   "source": [
    "## Required libraries\n",
    "general imports - keras, sklearn, numpy, pandas"
   ]
  },
  {
   "cell_type": "code",
   "execution_count": 595,
   "metadata": {},
   "outputs": [],
   "source": [
    "import keras \n",
    "from keras.models import Sequential\n",
    "from keras.layers import Activation\n",
    "from keras.optimizers import Adam\n",
    "from keras import regularizers\n",
    "from keras.layers import Dense, GlobalAveragePooling1D, Embedding, Dropout, Conv1D, MaxPooling1D, Flatten\n",
    "from keras.callbacks import EarlyStopping\n",
    "from keras.preprocessing.sequence import pad_sequences\n",
    "from keras.preprocessing.text import Tokenizer\n",
    "from sklearn import model_selection\n",
    "from sklearn import metrics\n",
    "from keras.metrics import categorical_crossentropy\n",
    "from sklearn.model_selection import train_test_split\n",
    "import pandas as pd\n",
    "import json\n",
    "import numpy as np\n",
    "import os"
   ]
  },
  {
   "cell_type": "markdown",
   "metadata": {},
   "source": [
    "# load data from dataset"
   ]
  },
  {
   "cell_type": "code",
   "execution_count": 596,
   "metadata": {},
   "outputs": [
    {
     "name": "stdout",
     "output_type": "stream",
     "text": [
      "There are: 28970 records of defects in dataset.\n"
     ]
    }
   ],
   "source": [
    "# Reads and converts json / Excel format to python dict.\n",
    "def js_r(data):\n",
    "   with open(data, encoding='utf-8') as f_in:\n",
    "       return(json.load(f_in))\n",
    "\n",
    "def read_excel(path):\n",
    "    return pd.read_excel(open(path, 'rb'),\n",
    "                  sheet_name='Sheet2')  # doctest: +SKIP\n",
    "\n",
    "# load JSON data\n",
    "# data_path=r'C:\\dev\\defects.json'\n",
    "# my_dic_data = js_r(data_path)['data']\n",
    "\n",
    "# Load EXCEL data:\n",
    "data_path = r'datasets' + os.sep + 'defects-all-spread.xlsx'\n",
    "my_dic_data = read_excel(data_path)\n",
    "print('There are: ' + str(len(my_dic_data)) + ' records of defects in dataset.')"
   ]
  },
  {
   "cell_type": "markdown",
   "metadata": {},
   "source": [
    "# Clean the dataset"
   ]
  },
  {
   "cell_type": "markdown",
   "metadata": {},
   "source": [
    "handling ids fields from json dataset, remove unused columns"
   ]
  },
  {
   "cell_type": "code",
   "execution_count": 597,
   "metadata": {},
   "outputs": [],
   "source": [
    "def transform_data(data_list):\n",
    "    print(len(data_list))\n",
    "    for defect in my_dic_data:\n",
    "        for column in defect.keys():\n",
    "            if not defect[column] == None and type(defect[column]) is dict and 'id' in defect[column]:\n",
    "                defect[column] = defect[column]['id']\n",
    "        \n",
    "    return pd.DataFrame(my_dic_data).drop(['access_granted', 'blocked_reason', 'path', 'phase',\n",
    "                                           'blocked', 'original_id', 'priority', 'defect_root_level', 'story_points', 'user_tags', 'program', 'taxonomies', 'version_stamp', 'detected_in_build', 'sprint', 'dependency_problem_type', 'defect_type'], axis=1)\n",
    "# df = transform_data(my_dic_data)"
   ]
  },
  {
   "cell_type": "markdown",
   "metadata": {},
   "source": [
    "cleaning the dataset (removing defects without labels, defects with only one label)"
   ]
  },
  {
   "cell_type": "code",
   "execution_count": 598,
   "metadata": {},
   "outputs": [
    {
     "name": "stdout",
     "output_type": "stream",
     "text": [
      "An example of dataset structure:\n"
     ]
    },
    {
     "data": {
      "text/html": [
       "<div>\n",
       "<style scoped>\n",
       "    .dataframe tbody tr th:only-of-type {\n",
       "        vertical-align: middle;\n",
       "    }\n",
       "\n",
       "    .dataframe tbody tr th {\n",
       "        vertical-align: top;\n",
       "    }\n",
       "\n",
       "    .dataframe thead th {\n",
       "        text-align: right;\n",
       "    }\n",
       "</style>\n",
       "<table border=\"1\" class=\"dataframe\">\n",
       "  <thead>\n",
       "    <tr style=\"text-align: right;\">\n",
       "      <th></th>\n",
       "      <th>creation_time</th>\n",
       "      <th>id</th>\n",
       "      <th>name</th>\n",
       "      <th>description</th>\n",
       "      <th>knowledge_modified_udf</th>\n",
       "      <th>parent.name</th>\n",
       "      <th>parent.id</th>\n",
       "      <th>release.id</th>\n",
       "      <th>team.id</th>\n",
       "      <th>team.name</th>\n",
       "      <th>product_areas.id</th>\n",
       "      <th>product_areas.name</th>\n",
       "      <th>application_modules.id</th>\n",
       "      <th>application_modules.name</th>\n",
       "      <th>qa_owner.id</th>\n",
       "      <th>qa_owner.name</th>\n",
       "      <th>owner.id</th>\n",
       "      <th>owner.name</th>\n",
       "    </tr>\n",
       "  </thead>\n",
       "  <tbody>\n",
       "    <tr>\n",
       "      <th>0</th>\n",
       "      <td>2017-01-11 09:05:12</td>\n",
       "      <td>205022</td>\n",
       "      <td>[Regression Day - Firefox] - Exception thrown ...</td>\n",
       "      <td>&amp;lt;html&amp;gt;&amp;lt;body&amp;gt;&amp;lt;p&amp;gt;1. create tes...</td>\n",
       "      <td>NaT</td>\n",
       "      <td>Requirement Backlog</td>\n",
       "      <td>1001</td>\n",
       "      <td>22001.0</td>\n",
       "      <td>3002.0</td>\n",
       "      <td>OMG Yuval (Do Not Use)</td>\n",
       "      <td>78018.0</td>\n",
       "      <td>10 Tests</td>\n",
       "      <td>78018.0</td>\n",
       "      <td>10 Tests</td>\n",
       "      <td>NaN</td>\n",
       "      <td>NaN</td>\n",
       "      <td>9001.0</td>\n",
       "      <td>sari.bivas@microfocus.com</td>\n",
       "    </tr>\n",
       "    <tr>\n",
       "      <th>1</th>\n",
       "      <td>2016-12-27 10:06:39</td>\n",
       "      <td>198001</td>\n",
       "      <td>Bug Hunt 12.53.19 - when add \"On it\" user I ge...</td>\n",
       "      <td>NaN</td>\n",
       "      <td>NaT</td>\n",
       "      <td>Requirement Backlog</td>\n",
       "      <td>1001</td>\n",
       "      <td>22001.0</td>\n",
       "      <td>8003.0</td>\n",
       "      <td>Sharon - XMen Magneto</td>\n",
       "      <td>79021.0</td>\n",
       "      <td>Failure Analysis</td>\n",
       "      <td>79021.0</td>\n",
       "      <td>Failure Analysis</td>\n",
       "      <td>NaN</td>\n",
       "      <td>NaN</td>\n",
       "      <td>3035.0</td>\n",
       "      <td>abed.masrawa@hpe.com</td>\n",
       "    </tr>\n",
       "  </tbody>\n",
       "</table>\n",
       "</div>"
      ],
      "text/plain": [
       "        creation_time      id  \\\n",
       "0 2017-01-11 09:05:12  205022   \n",
       "1 2016-12-27 10:06:39  198001   \n",
       "\n",
       "                                                name  \\\n",
       "0  [Regression Day - Firefox] - Exception thrown ...   \n",
       "1  Bug Hunt 12.53.19 - when add \"On it\" user I ge...   \n",
       "\n",
       "                                         description knowledge_modified_udf  \\\n",
       "0  &lt;html&gt;&lt;body&gt;&lt;p&gt;1. create tes...                    NaT   \n",
       "1                                                NaN                    NaT   \n",
       "\n",
       "           parent.name  parent.id  release.id  team.id  \\\n",
       "0  Requirement Backlog       1001     22001.0   3002.0   \n",
       "1  Requirement Backlog       1001     22001.0   8003.0   \n",
       "\n",
       "                team.name  product_areas.id product_areas.name  \\\n",
       "0  OMG Yuval (Do Not Use)           78018.0           10 Tests   \n",
       "1   Sharon - XMen Magneto           79021.0   Failure Analysis   \n",
       "\n",
       "   application_modules.id application_modules.name  qa_owner.id qa_owner.name  \\\n",
       "0                 78018.0                 10 Tests          NaN           NaN   \n",
       "1                 79021.0         Failure Analysis          NaN           NaN   \n",
       "\n",
       "   owner.id                 owner.name  \n",
       "0    9001.0  sari.bivas@microfocus.com  \n",
       "1    3035.0       abed.masrawa@hpe.com  "
      ]
     },
     "execution_count": 598,
     "metadata": {},
     "output_type": "execute_result"
    }
   ],
   "source": [
    "# build dataframe from dict\n",
    "df = pd.DataFrame(my_dic_data)\n",
    "# cleaning rows without labels OR descritpion\n",
    "df = df[df['team.id'].map(lambda x: x != None)]\n",
    "df = df[df['name'].map(lambda x: x != None)]\n",
    "train_df = df[df['description'].map(lambda x: x != None)]\n",
    "train_df = train_df.groupby('team.id').filter(lambda x : len(x)>2)\n",
    "\n",
    "# building translation map from team id -> team name\n",
    "team_id_to_name_map = pd.Series(df['team.name'].values,index=df['team.id']).to_dict()\n",
    "# spliting Lables from features\n",
    "X = train_df.drop(['team.id'], axis=1)\n",
    "Y = train_df['team.id']\n",
    "\n",
    "print(\"An example of dataset structure:\")\n",
    "train_df.head(n=2)\n"
   ]
  },
  {
   "cell_type": "markdown",
   "metadata": {},
   "source": [
    "# Know the data"
   ]
  },
  {
   "cell_type": "markdown",
   "metadata": {},
   "source": [
    "### Team defect distribution"
   ]
  },
  {
   "cell_type": "code",
   "execution_count": 599,
   "metadata": {},
   "outputs": [
    {
     "data": {
      "image/png": "[encoded data removed]",
      "text/plain": [
       "<Figure size 1008x360 with 1 Axes>"
      ]
     },
     "execution_count": 599,
     "metadata": {},
     "output_type": "execute_result"
    }
   ],
   "source": [
    "import matplotlib.pyplot as plt\n",
    "import nltk\n",
    "import seaborn as sns\n",
    "all_labels_image_name = 'gifs' + os.sep + 'team_bar_plot.pdf'\n",
    "\n",
    "def author_bar_plot(train_df, column):\n",
    "    fig = plt.gcf()\n",
    "    fig.set_size_inches(14, 5)\n",
    "    sns.countplot(x=train_df[column], order=train_df[column].value_counts().index).set_title(\n",
    "        'records count per ' + column)\n",
    "    plt.xticks(rotation='vertical', fontsize=5)\n",
    "    fig.tight_layout()\n",
    "    fig.savefig(all_labels_image_name, format='pdf')\n",
    "    plt.close()\n",
    "    return fig\n",
    "    \n",
    "author_bar_plot(train_df, 'team.name')"
   ]
  },
  {
   "cell_type": "markdown",
   "metadata": {},
   "source": [
    "as we have 6K documents labeled for Ehud team, a majority classifier score will be 6000 / 28K == 20% Accuracy!"
   ]
  },
  {
   "cell_type": "markdown",
   "metadata": {},
   "source": [
    "### Frequent words"
   ]
  },
  {
   "cell_type": "code",
   "execution_count": 600,
   "metadata": {},
   "outputs": [
    {
     "data": {
      "image/png": "[encoded data removed]",
      "text/plain": [
       "<Figure size 1008x216 with 1 Axes>"
      ]
     },
     "metadata": {
      "needs_background": "light"
     },
     "output_type": "display_data"
    }
   ],
   "source": [
    "all_tokens_image_name = 'gifs' + os.sep + 'team_token_plot.pdf'\n",
    "def plot_token_frequencies(train_df, referance_column='name', title_prefix='',\n",
    "                           output_path=all_tokens_image_name):\n",
    "    fig = plt.gcf()\n",
    "    fig.set_size_inches(14, 3)\n",
    "    fd = nltk.FreqDist([y for x in train_df[referance_column].str.split() for y in x])\n",
    "    if title_prefix != '':\n",
    "        title = title_prefix + ',token frequencies, top 30'\n",
    "    else:\n",
    "        title = 'token frequencies, top 30'\n",
    "\n",
    "    fd.plot(30, title=title)\n",
    "    fig.savefig(output_path + 'plot_token_frequencies_' + title_prefix + '.pdf', format='pdf')\n",
    "    plt.close()\n",
    "\n",
    "\n",
    "plot_token_frequencies(train_df)\n"
   ]
  },
  {
   "cell_type": "markdown",
   "metadata": {},
   "source": [
    "# Data preparation"
   ]
  },
  {
   "cell_type": "markdown",
   "metadata": {},
   "source": [
    "labels encoding"
   ]
  },
  {
   "cell_type": "code",
   "execution_count": 601,
   "metadata": {},
   "outputs": [
    {
     "name": "stdout",
     "output_type": "stream",
     "text": [
      "there are: 34 different labels in dataset, which corresponds to all teams\n"
     ]
    }
   ],
   "source": [
    "# label envoding\n",
    "from sklearn.preprocessing import LabelEncoder, LabelBinarizer\n",
    "le = LabelEncoder()\n",
    "encoded_labels = pd.DataFrame(le.fit_transform(train_df['team.id']))\n",
    "classes_number = encoded_labels.groupby(0).nunique().shape[0]\n",
    "all_labels = encoded_labels[0].unique()\n",
    "print('there are: ' + str(classes_number) + ' different labels in dataset, which corresponds to all teams')"
   ]
  },
  {
   "cell_type": "code",
   "execution_count": 602,
   "metadata": {},
   "outputs": [
    {
     "name": "stdout",
     "output_type": "stream",
     "text": [
      "train samples: (22576, 17) validation samples: (5644, 17)\n"
     ]
    }
   ],
   "source": [
    "# ensure that the model is not overfitting \n",
    "# train & validation tests with labels, test without\n",
    "xtrain, xvalid, ytrain, yvalid = train_test_split(X, encoded_labels,\n",
    "                                                      stratify=encoded_labels,\n",
    "                                                      random_state=42,\n",
    "                                                      test_size=0.2, shuffle=True)\n",
    "\n",
    "\n",
    "print ('train samples: ' + str(xtrain.shape) + ' validation samples: ' + str(xvalid.shape))"
   ]
  },
  {
   "cell_type": "markdown",
   "metadata": {},
   "source": [
    "# Build Model + Classifier"
   ]
  },
  {
   "cell_type": "code",
   "execution_count": null,
   "metadata": {},
   "outputs": [],
   "source": [
    "from sklearn import metrics\n",
    "# parameters:BATCH_SIZE=16, EPOC_SIZE=30\n",
    "BATCH_SIZE = 16 # smaller batch size consume less memory (but can decrease accuracy)\n",
    "EPOC_SIZE = 30\n",
    "MIDDLE_LAYER_SIZE = 800\n",
    "# for one hot encoded output, we use categorical \n",
    "loss_func = 'sparse_categorical_crossentropy' # 'categorical_crossentropy'\n",
    "tokenizer_file_name = r\"models\" + os.sep + \"FTtokenizer_\" + str(BATCH_SIZE) + \"B_\" + str(EPOC_SIZE) + \"E\" + loss_func + \"-Loss_\" + str(MIDDLE_LAYER_SIZE) + \"Layer.pkl\"\n",
    "classifier_file_name = r\"models\" + os.sep + \"FTClassifier_\" + str(BATCH_SIZE) + \"B_\" + str(EPOC_SIZE) + \"E\" + loss_func + \"-Loss_\" + str(MIDDLE_LAYER_SIZE) + \"Layer.pkl\"\n",
    "\n",
    "class fasttext_classifier(object):\n",
    "    def __init__(self):\n",
    "        self.train_df = None\n",
    "        self.train_X = None\n",
    "        self.train_Y = None\n",
    "        self.vslid_X = None\n",
    "        self.valid_Y = None\n",
    "        self.model = None\n",
    "        self.hist = None\n",
    "        self.last_accuracy_report = None\n",
    "        self.tokenizer = None\n",
    "        self.rare_train_words = []\n",
    "        \n",
    "    def get_last_acc(self):\n",
    "        return self.last_accuracy_report\n",
    "    \n",
    "    def create_model(self, input_dim, classes_number, embedding_dims=32, optimizer='adam'):\n",
    "        self.labels = all_labels\n",
    "        self.model = Sequential()\n",
    "        \n",
    "        # we start off with an efficient embedding layer which maps\n",
    "        # our vocab indices into embedding_dims dimensions\n",
    "        self.model.add(Embedding(input_dim=input_dim, output_dim=embedding_dims, input_length=256))\n",
    "        # Dropout consists in randomly setting a fraction rate of input units to 0 at each update during training time,\n",
    "        # which helps prevent overfitting.\n",
    "        self.model.add(Dropout(0.3))\n",
    "        #This layer creates a convolution kernel that is convolved with the layer input over a single spatial (or temporal) dimension to produce a tensor of outputs. If use_bias is True, a bias vector is created and added to the outputs. Finally, if activation is not None, it is applied to the outputs as well.\n",
    "        self.model.add(Conv1D(64,\n",
    "                              5,\n",
    "                              padding='valid',\n",
    "                              activation='relu'))\n",
    "        self.model.add(Dropout(0.3))\n",
    "        self.model.add(MaxPooling1D())\n",
    "        self.model.add(Flatten())\n",
    "        self.model.add(Dense(MIDDLE_LAYER_SIZE, activation='relu'))\n",
    "        self.model.add(Dropout(0.5))\n",
    "        self.model.add(Dense(classes_number,activation='softmax'))\n",
    "        self.model.compile(loss=loss_func,\n",
    "                           optimizer=optimizer,\n",
    "                           metrics=['accuracy'])\n",
    "\n",
    "        return\n",
    "\n",
    "    def set_tokenizer(self, tokenizer):\n",
    "        self.tokenizer = tokenizer\n",
    "\n",
    "    def train(self, docstrain, ytrain, docsvalid, yvalid):\n",
    "        self.train_X = docstrain\n",
    "        self.train_Y = ytrain\n",
    "        self.hist = self.model.fit(docstrain, ytrain,\n",
    "                                   batch_size=BATCH_SIZE,\n",
    "                                   validation_data=(docsvalid, yvalid),\n",
    "                                   epochs=EPOC_SIZE, verbose=2,\n",
    "                                   callbacks=[EarlyStopping(patience=4, monitor='val_loss')])\n",
    "\n",
    "        predictions = self.model.predict_proba(docsvalid)\n",
    "        predictions_classes = self.model.predict_classes(docsvalid)\n",
    "        try:\n",
    "            # print(\"valid shape=\" + str(yvalid.shape) + \"predictions shape=\" + str(predictions.shape) + \"labels shape=\" + str(self.labels.shape))\n",
    "            self.last_accuracy_report = np.sum(predictions_classes == yvalid[0]) / len(yvalid[0])\n",
    "            print(\"accuracy on validation set after training: %0.3f\" % (\n",
    "                self.last_accuracy_report))\n",
    "#             print(\"prediction rows: \" + str(len(predictions.values)))\n",
    "#             print(\"prediction columns: \" + str(len(predictions.values[0])))\n",
    "#             print(\"fasttext logloss: %0.3f \" % metrics.log_loss(yvalid[0].values, predictions.values, labels=self.labels[0].values))\n",
    "        except Exception as e:\n",
    "            print(\"Oops!! occured. could not calculate metrics for this epoc\")\n",
    "            print(e)\n",
    "        return\n",
    "\n",
    "    def predict(self, docstest):\n",
    "        print(\"run prediction with trained\")\n",
    "        predictions = self.model.predict_proba(docstest)\n",
    "        predictions_classes = self.model.predict_classes(docstest)\n",
    "        return predictions, predictions_classes\n",
    "    \n",
    "    def plot_train_vs_val(self):\n",
    "        hist = self.model.history\n",
    "        hist_dict = hist.history\n",
    "        # plot loss\n",
    "        fig = plt.figure()\n",
    "        plt.subplot(211)\n",
    "        val_loss = hist_dict.get('val_loss')\n",
    "        val_loss_line = plt.plot(val_loss, label='val_loss')\n",
    "        plt.legend()\n",
    "        loss = hist_dict.get('loss')\n",
    "        plt.plot(loss, label='train_loss')\n",
    "        plt.legend()\n",
    "        plt.title(\"train and validation loss\")\n",
    "        plt.ylabel(\"loss\")\n",
    "\n",
    "        # plot accuracy\n",
    "        plt.subplot(212)\n",
    "        val_acc = hist_dict.get('val_acc')\n",
    "        plt.plot(val_acc, label='val_acc')\n",
    "        plt.legend()\n",
    "        acc = hist_dict.get('acc')\n",
    "        plt.plot(acc, label='train_acc')\n",
    "        plt.legend()\n",
    "        plt.title(\"train and validation accuracy\")\n",
    "        plt.ylabel(\"accuracy\")\n",
    "        plt.xlabel(\"step\")\n",
    "\n",
    "        fig.savefig(\"fast-text-itr-performance.pdf\", format='pdf')"
   ]
  },
  {
   "cell_type": "code",
   "execution_count": null,
   "metadata": {},
   "outputs": [],
   "source": [
    "from keras.layers import Dense, GlobalAveragePooling1D, Embedding\n",
    "from keras.models import Sequential\n",
    "from keras.preprocessing.sequence import pad_sequences\n",
    "from keras.preprocessing.text import Tokenizer\n",
    "from sklearn import model_selection\n",
    "from sklearn import metrics\n",
    "from nltk.corpus import stopwords\n",
    "from nltk.stem import WordNetLemmatizer\n",
    "\n",
    "import pickleF\n",
    "\n",
    "# preproceeings are:\n",
    "# Separate punctuation from words\n",
    "# Remove lower frequency words ( <= 2)\n",
    "# Cut a longer document which contains 256 words\n",
    "def preprocess(text, stop_words, lemmatizer):\n",
    "    text = text.replace(\"' \", \" ' \")\n",
    "    signs = set(',.:;\"?![]')\n",
    "    prods = set(text) & signs\n",
    "    \n",
    "    if not prods:\n",
    "        return text\n",
    "\n",
    "    for sign in prods:\n",
    "        text = text.replace(sign, ' {} '.format(sign))\n",
    "    \n",
    "    # Remove Stopwords\n",
    "    if stop_words is not None:\n",
    "        text = ' '.join([w for w in text.split(' ') if not w in stop_words])\n",
    "    # Lematizing    \n",
    "    if lemmatizer is not None:\n",
    "        text = ' '.join([lemmatizer.lemmatize(w) for w in text.split(' ')])\n",
    "\n",
    "  \n",
    "\n",
    "    return text\n",
    "\n",
    "# execute pre process for each of the docs (remove special characters)\n",
    "def create_docs(data, n_gram_max=1, tokenizer=None, train_mode=True, referance_col='name', stop_words=None, lemmatizer=None):\n",
    "    df = pd.DataFrame(data=data, columns=[referance_col])\n",
    "    rare_train_words = []\n",
    "\n",
    "    # create N grams + separate punctuation from words (character N grams)\n",
    "    def add_ngram(q, n_gram_max):\n",
    "        ngrams = []\n",
    "        for n in range(2, n_gram_max + 1):\n",
    "            for w_index in range(len(q) - n + 1):\n",
    "                ngrams.append('--'.join(q[w_index:w_index + n]))\n",
    "        return q + ngrams\n",
    "    \n",
    "    # pre-process text\n",
    "    docs = []\n",
    "    for doc in df[referance_col]:\n",
    "        doc = preprocess(doc, stop_words, lemmatizer).split()\n",
    "        docs.append(' '.join(add_ngram(doc, n_gram_max)))\n",
    "        \n",
    "    # tokenization step (why do not split on spaces?)\n",
    "    min_count = 2\n",
    "    if tokenizer is None:\n",
    "        tokenizer = Tokenizer(lower=True, filters='')\n",
    "        tokenizer.fit_on_texts(docs)\n",
    "        # summarize what was learned in tokenizer\n",
    "#         print(tokenizer.word_counts)\n",
    "#         print(tokenizer.document_count)\n",
    "#         print(tokenizer.word_index)\n",
    "#         print(tokenizer.word_docs)\n",
    "\n",
    "    if train_mode:\n",
    "        # remove low frequency words\n",
    "        num_words = sum([1 for _, v in tokenizer.word_counts.items() if v >= min_count])\n",
    "        tokenizer = Tokenizer(num_words=num_words, lower=True, filters='')\n",
    "        tokenizer.fit_on_texts(docs)\n",
    "\n",
    "    docs = tokenizer.texts_to_sequences(docs)\n",
    "    maxlen = 256\n",
    "    # cat long sentences and\n",
    "    docs = pad_sequences(sequences=docs, maxlen=maxlen)\n",
    "\n",
    "    if train_mode:\n",
    "        return docs, tokenizer\n",
    "    else:\n",
    "        return docs\n",
    "\n",
    "\n",
    "# get fsx featurew for trainig and validation set in a cross validation methodology\n",
    "def get_fasttext_features(xtrain, ytrain, xvalid, yvalid, referance_col, classes_number, all_labels, lbl_prefix='fastext_'):\n",
    "    cv_scores = []\n",
    "    pred_full_test = 0\n",
    "    print('len ytrain = ' + str(len(set(ytrain))) + \" len classes= \" + str(classes_number))\n",
    "    pred_train = np.zeros([xtrain.shape[0], classes_number])\n",
    "    \n",
    "    fsx = fasttext_classifier()\n",
    "    \n",
    "    print(\"create docs for train step (pre process, tokenization)\")\n",
    "    docstrain, tokenizer = create_docs(data=xtrain[referance_col], referance_col=referance_col)\n",
    "    fsx.set_tokenizer(tokenizer)\n",
    "    \n",
    "    print(\"create docs for validation step (pre process, tokenization)\")\n",
    "    docstest = create_docs(data=xvalid[referance_col], tokenizer=fsx.tokenizer, train_mode=False,\n",
    "                           referance_col=referance_col)\n",
    "    input_dim = np.max(docstrain) + 1\n",
    "    fsx.create_model(input_dim, classes_number=classes_number)\n",
    "\n",
    "    # split training set to 5 folds\n",
    "    kf = model_selection.KFold(n_splits=5, shuffle=True, random_state=2017)\n",
    "    cv_cnt = 1\n",
    "    for dev_index, val_index in kf.split(docstrain):\n",
    "        print(\"CV fsx:\" + str(cv_cnt))\n",
    "        cv_cnt += 1\n",
    "\n",
    "        dev_X, val_X = docstrain[dev_index], docstrain[val_index]\n",
    "        dev_y, val_y = ytrain.iloc[dev_index], ytrain.iloc[val_index]\n",
    "\n",
    "        fsx.train(dev_X, dev_y, val_X, val_y)\n",
    "        prob_val_y, cls_val_y = fsx.predict(val_X)\n",
    "        prob_test_y, cls_test_y = fsx.predict(docstest)\n",
    "\n",
    "        pred_full_test = pred_full_test + prob_test_y\n",
    "        pred_train[val_index, :] = prob_val_y\n",
    "#         try:\n",
    "#             cv_scores.append(metrics.log_loss(val_y, prob_val_y, labels=all_labels))\n",
    "#         except Exception as e:\n",
    "#             print(\"valid shape=\" + str(val_y.shape) + \"predictions shape=\" + str(prob_val_y.shape) + \"labels shape=\" + str(all_labels.shape))\n",
    "#             print(\"Oops! failed to append log_loss metrics in KFold\")\n",
    "#             print(e)\n",
    "#     try:\n",
    "#         print(\"Mean cv score : \", np.mean(cv_scores))\n",
    "#     except:\n",
    "#         print(\"error while calculating mean cv score\")\n",
    "        \n",
    "    pred_full_test = pred_full_test / 5.\n",
    "\n",
    "    columns = [lbl_prefix + str(i) for i in range(classes_number)]\n",
    "    aa = pd.DataFrame(columns=columns, data=pred_train)\n",
    "    bb = pd.DataFrame(columns=columns, data=pred_full_test)\n",
    "    return aa, bb\n",
    "\n",
    "\n",
    "# this methos to be used to save model created on training set, for new row currently not in DB\n",
    "def obtain_fasttext_model(xtrain, ytrain, xvalid, yvalid, classes_number, referance_col='name',\n",
    "                          create_doc=True, is_stop_words=True, is_lematizing = False):\n",
    "\n",
    "    fsx = fasttext_classifier()\n",
    "    if is_stop_words:\n",
    "        print(\"using stop words\")\n",
    "        eng_stopwords = set(stopwords.words(\"english\"))\n",
    "    else:\n",
    "        eng_stopwords = None\n",
    "        \n",
    "    if is_lematizing:\n",
    "        print(\"using lemmatizing\")\n",
    "        lemmatizer = WordNetLemmatizer()\n",
    "    else:\n",
    "        lemmatizer = None\n",
    "        \n",
    "    if create_doc:\n",
    "        docstrain, tokenizer = create_docs(data=xtrain[referance_col], referance_col=referance_col,\n",
    "                                           stop_words=eng_stopwords, lemmatizer=lemmatizer)\n",
    "        fsx.set_tokenizer(tokenizer)\n",
    "        docstest = create_docs(data=xvalid[referance_col], tokenizer=fsx.tokenizer, train_mode=False,\n",
    "                           referance_col=referance_col, stop_words=eng_stopwords, lemmatizer = lemmatizer)\n",
    "    else:\n",
    "        docstrain=xtrain\n",
    "        docstest=xvalid\n",
    "\n",
    "    input_dim = np.max(docstrain) + 1\n",
    "    fsx.create_model(input_dim, classes_number=classes_number)\n",
    "\n",
    "    fsx.train(docstrain, ytrain, docstest, yvalid)\n",
    "    return fsx, tokenizer\n",
    "\n",
    "\n",
    "xtrain_processed = xtrain.reset_index(drop=True)\n",
    "xvalid_processed = xvalid.reset_index(drop=True)\n",
    "    "
   ]
  },
  {
   "cell_type": "markdown",
   "metadata": {},
   "source": [
    "# Train / Load Model"
   ]
  },
  {
   "cell_type": "code",
   "execution_count": null,
   "metadata": {
    "scrolled": false
   },
   "outputs": [
    {
     "name": "stdout",
     "output_type": "stream",
     "text": [
      "start training model...\n",
      "using lemmatizing\n",
      "Train on 22576 samples, validate on 5644 samples\n",
      "Epoch 1/30\n",
      " - 221s - loss: 2.1844 - acc: 0.3758 - val_loss: 1.6667 - val_acc: 0.5489\n",
      "Epoch 2/30\n",
      " - 223s - loss: 1.5215 - acc: 0.5677 - val_loss: 1.3942 - val_acc: 0.6237\n",
      "Epoch 3/30\n",
      " - 221s - loss: 1.2755 - acc: 0.6396 - val_loss: 1.3131 - val_acc: 0.6428\n",
      "Epoch 4/30\n",
      " - 223s - loss: 1.1510 - acc: 0.6704 - val_loss: 1.2823 - val_acc: 0.6588\n",
      "Epoch 5/30\n",
      " - 222s - loss: 1.0372 - acc: 0.6999 - val_loss: 1.2498 - val_acc: 0.6687\n",
      "Epoch 6/30\n",
      " - 215s - loss: 0.9727 - acc: 0.7204 - val_loss: 1.2341 - val_acc: 0.6816\n",
      "Epoch 7/30\n",
      " - 213s - loss: 0.9087 - acc: 0.7333 - val_loss: 1.2292 - val_acc: 0.6804\n",
      "Epoch 8/30\n"
     ]
    }
   ],
   "source": [
    "train = True\n",
    "is_stop_words=False\n",
    "is_lematizing=True\n",
    "if train:\n",
    "    print(\"start training model...\")\n",
    "    fsx, tokenizer = obtain_fasttext_model(xtrain_processed, ytrain, xvalid_processed, yvalid, classes_number,\n",
    "                                                             referance_col='name', is_stop_words=is_stop_words, is_lematizing=is_lematizing)\n",
    "    print(\"finish training FT classifier\")\n",
    "    # export model and tokenizer\n",
    "    pickle.dump(tokenizer, open(tokenizer_file_name, \"wb\"), protocol=pickle.HIGHEST_PROTOCOL)\n",
    "    fsx.model.save(classifier_file_name)\n",
    "else:\n",
    "    # load model from disk\n",
    "    import pickle\n",
    "    from keras.models import load_model\n",
    "    import pandas as pd\n",
    "    loaded_tokenizer = pickle.load(open(tokenizer_file_name, \"rb\"))\n",
    "    loaded_fsx = load_model(classifier_file_name)\n",
    "    loaded_fsx.model.compile(loss=loss_func,\n",
    "                           optimizer=optimizer,\n",
    "                           metrics=['accuracy'])    \n",
    "\n",
    "print(\"Exported model and tokenizer\")"
   ]
  },
  {
   "cell_type": "markdown",
   "metadata": {},
   "source": [
    "# predict team by defect name"
   ]
  },
  {
   "cell_type": "code",
   "execution_count": null,
   "metadata": {},
   "outputs": [],
   "source": [
    "string_to_predict = 'coverage by lines is not working'\n",
    "column = pd.DataFrame({'name' : [string_to_predict]})\n",
    "\n",
    "def predict_with_model(docstest, model):\n",
    "    print(\"run prediction with loaded model\")\n",
    "    predictions = model.predict_proba(docstest)\n",
    "    predictions_classes = model.predict_classes(docstest)\n",
    "    return predictions, predictions_classes\n",
    "\n",
    "if train:\n",
    "    docs = create_docs(data=column, train_mode=False, tokenizer=tokenizer, referance_col='name')\n",
    "    prob_val_matrix, y_class = fsx.predict(docs)\n",
    "    predicted_team_id = le.inverse_transform(y_class)[0]\n",
    "    team_probability = prob_val_matrix[0][y_class]\n",
    "    predicted_sec_team_id = (-prob_val_matrix).argsort()[0][1]\n",
    "else:\n",
    "    docs = create_docs(data=column, train_mode=False, tokenizer=loaded_tokenizer, referance_col='name')\n",
    "    prob_val_matrix, y_class = predict_with_model(docs, loaded_fsx)\n",
    "    predicted_team_id = (-prob_val_matrix).argsort()[0][0]\n",
    "    team_probability = prob_val_matrix[0][y_class]\n",
    "    predicted_sec_team_id = (-prob_val_matrix).argsort()[0][1]\n",
    "\n",
    "predicted_team_name = team_id_to_name_map[predicted_team_id]\n",
    "print (str(team_probability) + \" probability it's: \" + predicted_team_name + \" labeled by \" + str(y_class))\n"
   ]
  },
  {
   "cell_type": "code",
   "execution_count": null,
   "metadata": {},
   "outputs": [],
   "source": [
    "classifier_score = \"\\nClassifier: \" + classifier_file_name + \" Lem:\" + str(is_lemstizing) + \" StopWords:\" + str(is_stop_words) + \" Validation Acc: \" + str(fsx.get_last_acc())\n",
    "f= open(\"accuracy_scores.txt\",\"a\")\n",
    "f.write(classifier_score)\n",
    "f.close()"
   ]
  },
  {
   "cell_type": "code",
   "execution_count": null,
   "metadata": {},
   "outputs": [],
   "source": [
    "# # extract NLP features\n",
    "# from sklearn.feature_extraction.text import TfidfVectorizer\n",
    "# from sklearn.pipeline import Pipeline, FeatureUnion\n",
    "# from sklearn.decomposition import PCA as sklearnPCA, TruncatedSVD\n",
    "# from sklearn.base import BaseEstimator, TransformerMixin\n",
    "# class ItemSelector(BaseEstimator, TransformerMixin):\n",
    "\n",
    "#     def __init__(self, key):\n",
    "#         self.key = key\n",
    "\n",
    "#     def fit(self, x, y=None):\n",
    "#         return self\n",
    "\n",
    "#     def transform(self, data_dict):\n",
    "#         return data_dict[self.key]\n",
    "    \n",
    "# tf_idf_3_grams = Pipeline([\n",
    "#                 ('sel', ItemSelector(key='name')),\n",
    "#                 ('tf', TfidfVectorizer(max_features=1000,\n",
    "#                                        strip_accents='unicode', token_pattern=r'\\w{1,}',\n",
    "#                                        ngram_range=(1, 3), use_idf=1, smooth_idf=1, sublinear_tf=1,\n",
    "#                                        stop_words='english')),\n",
    "#                 ('svd', TruncatedSVD(n_components=50))\n",
    "#     ])    \n",
    "# name_features = tf_idf_3_grams.fit_transform(X)"
   ]
  },
  {
   "cell_type": "markdown",
   "metadata": {},
   "source": [
    "# train test split: train, valid, test sets"
   ]
  },
  {
   "cell_type": "markdown",
   "metadata": {},
   "source": [
    "## regularization"
   ]
  },
  {
   "cell_type": "markdown",
   "metadata": {},
   "source": [
    "how to avoid overfitting\n",
    "- reduce layers\n",
    "- randomly neglect nodes from producing output in nn (dropout)\n",
    "- add regularization (penelize for large weights: loss + x) L2 regularization\n",
    "\n",
    "how to avoid underfitting - \n",
    "- encrease layers / nodes.\n",
    "- add additional features.\n",
    "\n",
    "to add regularization to layer:\n",
    "model.add(Dense(5, input_shape=(26,), kernal.regulizer=regulizers.l2(0.01), activation='relu'))\n"
   ]
  },
  {
   "cell_type": "markdown",
   "metadata": {},
   "source": [
    "# create the model with layers"
   ]
  },
  {
   "cell_type": "code",
   "execution_count": null,
   "metadata": {},
   "outputs": [],
   "source": [
    "model = Sequential()\n",
    "# Dense is a type of layer (basic type), fully connected layer\n",
    "# first arg is number of neurons in layer\n",
    "# the activation function getting the wieghted sum from all input nodes, and output a number between 0 to 1.\n",
    "# the first layer is hidden layer (and the input defined with param input_shape)\n",
    "model.add(Dense(5, input_shape=(50,), activation='relu'))\n",
    "model.add(Dense(5, activation='relu'))\n",
    "model.add(Dense(1, activation='softmax'))\n"
   ]
  },
  {
   "cell_type": "code",
   "execution_count": null,
   "metadata": {},
   "outputs": [],
   "source": [
    "model.summary()"
   ]
  },
  {
   "cell_type": "markdown",
   "metadata": {},
   "source": [
    "# compile the module"
   ]
  },
  {
   "cell_type": "code",
   "execution_count": null,
   "metadata": {},
   "outputs": [],
   "source": [
    "# using optimizer (SGC, Adma..) , minimize the loss funtion.\n",
    "# Adam is a variation of SGC, also choose loss func + metrics (printed out)\n",
    "model.compile(Adam(lr=.0001), loss='binary_crossentropy', metrics=['accuracy'])"
   ]
  },
  {
   "cell_type": "markdown",
   "metadata": {},
   "source": [
    "# train the model"
   ]
  },
  {
   "cell_type": "code",
   "execution_count": null,
   "metadata": {},
   "outputs": [],
   "source": []
  },
  {
   "cell_type": "code",
   "execution_count": null,
   "metadata": {},
   "outputs": [],
   "source": [
    "print(\"done\")"
   ]
  }
 ],
 "metadata": {
  "kernelspec": {
   "display_name": "Python 3",
   "language": "python",
   "name": "python3"
  },
  "language_info": {
   "codemirror_mode": {
    "name": "ipython",
    "version": 3
   },
   "file_extension": ".py",
   "mimetype": "text/x-python",
   "name": "python",
   "nbconvert_exporter": "python",
   "pygments_lexer": "ipython3",
   "version": "3.7.3"
  }
 },
 "nbformat": 4,
 "nbformat_minor": 2
}
