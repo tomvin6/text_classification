{
 "cells": [
  {
   "cell_type": "markdown",
   "metadata": {},
   "source": []
  },
  {
   "cell_type": "markdown",
   "metadata": {},
   "source": [
    "# Predict team using defect title (Linear model)"
   ]
  },
  {
   "cell_type": "markdown",
   "metadata": {},
   "source": [
    "in the following notebook, a model is built and trained using defects data from center. \n",
    "for predicting one field from defects form - team field."
   ]
  },
  {
   "cell_type": "markdown",
   "metadata": {},
   "source": [
    "## Required libraries\n",
    "general imports - keras, sklearn, numpy, pandas"
   ]
  },
  {
   "cell_type": "code",
   "execution_count": 118,
   "metadata": {},
   "outputs": [],
   "source": [
    "import keras \n",
    "from keras.models import Sequential\n",
    "from sklearn.linear_model import LogisticRegression\n",
    "from keras.layers import Activation\n",
    "from keras.optimizers import Adam\n",
    "from keras import regularizers\n",
    "from keras.layers import Dense, GlobalAveragePooling1D, Embedding, Dropout, Conv1D, MaxPooling1D, Flatten\n",
    "from keras.callbacks import EarlyStopping\n",
    "from keras.preprocessing.sequence import pad_sequences\n",
    "from keras.preprocessing.text import Tokenizer\n",
    "from sklearn import model_selection\n",
    "from sklearn import metrics\n",
    "from keras.metrics import categorical_crossentropy\n",
    "from sklearn.model_selection import train_test_split\n",
    "import pandas as pd\n",
    "import json\n",
    "import numpy as np\n",
    "import os\n",
    "from sklearn import metrics\n",
    "from sklearn.feature_extraction.text import CountVectorizer\n",
    "from sklearn.naive_bayes import MultinomialNB"
   ]
  },
  {
   "cell_type": "markdown",
   "metadata": {},
   "source": [
    "# load data from dataset"
   ]
  },
  {
   "cell_type": "code",
   "execution_count": 119,
   "metadata": {},
   "outputs": [
    {
     "name": "stdout",
     "output_type": "stream",
     "text": [
      "There are: 28970 records of defects in dataset.\n"
     ]
    }
   ],
   "source": [
    "# Reads and converts json / Excel format to python dict.\n",
    "def js_r(data):\n",
    "   with open(data, encoding='utf-8') as f_in:\n",
    "       return(json.load(f_in))\n",
    "\n",
    "def read_excel(path):\n",
    "    return pd.read_excel(open(path, 'rb'),\n",
    "                  sheet_name='Sheet2')  # doctest: +SKIP\n",
    "\n",
    "# load JSON data\n",
    "# data_path=r'C:\\dev\\defects.json'\n",
    "# my_dic_data = js_r(data_path)['data']\n",
    "\n",
    "# Load EXCEL data:\n",
    "data_path = r'datasets' + os.sep + 'defects-all-spread.xlsx'\n",
    "my_dic_data = read_excel(data_path)\n",
    "print('There are: ' + str(len(my_dic_data)) + ' records of defects in dataset.')"
   ]
  },
  {
   "cell_type": "markdown",
   "metadata": {},
   "source": [
    "# Clean the dataset"
   ]
  },
  {
   "cell_type": "markdown",
   "metadata": {},
   "source": [
    "handling ids fields from json dataset, remove unused columns"
   ]
  },
  {
   "cell_type": "code",
   "execution_count": 120,
   "metadata": {},
   "outputs": [],
   "source": [
    "def transform_data(data_list):\n",
    "    print(len(data_list))\n",
    "    for defect in my_dic_data:\n",
    "        for column in defect.keys():\n",
    "            if not defect[column] == None and type(defect[column]) is dict and 'id' in defect[column]:\n",
    "                defect[column] = defect[column]['id']\n",
    "        \n",
    "    return pd.DataFrame(my_dic_data).drop(['access_granted', 'blocked_reason', 'path', 'phase',\n",
    "                                           'blocked', 'original_id', 'priority', 'defect_root_level', 'story_points', 'user_tags', 'program', 'taxonomies', 'version_stamp', 'detected_in_build', 'sprint', 'dependency_problem_type', 'defect_type'], axis=1)\n",
    "# df = transform_data(my_dic_data)"
   ]
  },
  {
   "cell_type": "markdown",
   "metadata": {},
   "source": [
    "cleaning the dataset (removing defects without labels, defects with only one label)"
   ]
  },
  {
   "cell_type": "code",
   "execution_count": 121,
   "metadata": {},
   "outputs": [
    {
     "name": "stdout",
     "output_type": "stream",
     "text": [
      "Original dataset shape is: (28970, 18)\n",
      "Small dataset shape is: (11519, 18)\n"
     ]
    },
    {
     "data": {
      "text/html": [
       "<div>\n",
       "<style scoped>\n",
       "    .dataframe tbody tr th:only-of-type {\n",
       "        vertical-align: middle;\n",
       "    }\n",
       "\n",
       "    .dataframe tbody tr th {\n",
       "        vertical-align: top;\n",
       "    }\n",
       "\n",
       "    .dataframe thead th {\n",
       "        text-align: right;\n",
       "    }\n",
       "</style>\n",
       "<table border=\"1\" class=\"dataframe\">\n",
       "  <thead>\n",
       "    <tr style=\"text-align: right;\">\n",
       "      <th></th>\n",
       "      <th>creation_time</th>\n",
       "      <th>id</th>\n",
       "      <th>name</th>\n",
       "      <th>description</th>\n",
       "      <th>knowledge_modified_udf</th>\n",
       "      <th>parent.name</th>\n",
       "      <th>parent.id</th>\n",
       "      <th>release.id</th>\n",
       "      <th>team.id</th>\n",
       "      <th>team.name</th>\n",
       "      <th>product_areas.id</th>\n",
       "      <th>product_areas.name</th>\n",
       "      <th>application_modules.id</th>\n",
       "      <th>application_modules.name</th>\n",
       "      <th>qa_owner.id</th>\n",
       "      <th>qa_owner.name</th>\n",
       "      <th>owner.id</th>\n",
       "      <th>owner.name</th>\n",
       "    </tr>\n",
       "  </thead>\n",
       "  <tbody>\n",
       "    <tr>\n",
       "      <th>8</th>\n",
       "      <td>2018-02-14 14:54:39</td>\n",
       "      <td>572045</td>\n",
       "      <td>[center] in team backlog storyboard, card size...</td>\n",
       "      <td>&amp;lt;html&amp;gt;&amp;lt;body&amp;gt;&amp;lt;p&amp;gt;&amp;lt;span styl...</td>\n",
       "      <td>NaT</td>\n",
       "      <td>Requirement Backlog</td>\n",
       "      <td>1001</td>\n",
       "      <td>54001.0</td>\n",
       "      <td>9005.0</td>\n",
       "      <td>Ehud - Guardians</td>\n",
       "      <td>77009.0</td>\n",
       "      <td>09 Team Backlog</td>\n",
       "      <td>77009.0</td>\n",
       "      <td>09 Team Backlog</td>\n",
       "      <td>162002.0</td>\n",
       "      <td>channa.even-chen@microfocus.com</td>\n",
       "      <td>NaN</td>\n",
       "      <td>NaN</td>\n",
       "    </tr>\n",
       "    <tr>\n",
       "      <th>9</th>\n",
       "      <td>2019-04-04 12:05:17</td>\n",
       "      <td>828009</td>\n",
       "      <td>The message that explains why  upgrade is prev...</td>\n",
       "      <td>&amp;lt;html&amp;gt;&amp;lt;body&amp;gt;&amp;lt;div style=&amp;quot;di...</td>\n",
       "      <td>NaT</td>\n",
       "      <td>[tech][On-premise] Prevent site upgrade in cas...</td>\n",
       "      <td>768060</td>\n",
       "      <td>69001.0</td>\n",
       "      <td>9004.0</td>\n",
       "      <td>Neva - Avengers</td>\n",
       "      <td>110001.0</td>\n",
       "      <td>ElasticSearch</td>\n",
       "      <td>110001.0</td>\n",
       "      <td>ElasticSearch</td>\n",
       "      <td>35001.0</td>\n",
       "      <td>tal@microfocus.com</td>\n",
       "      <td>11001.0</td>\n",
       "      <td>liat.orshizer@microfocus.com</td>\n",
       "    </tr>\n",
       "  </tbody>\n",
       "</table>\n",
       "</div>"
      ],
      "text/plain": [
       "        creation_time      id  \\\n",
       "8 2018-02-14 14:54:39  572045   \n",
       "9 2019-04-04 12:05:17  828009   \n",
       "\n",
       "                                                name  \\\n",
       "8  [center] in team backlog storyboard, card size...   \n",
       "9  The message that explains why  upgrade is prev...   \n",
       "\n",
       "                                         description knowledge_modified_udf  \\\n",
       "8  &lt;html&gt;&lt;body&gt;&lt;p&gt;&lt;span styl...                    NaT   \n",
       "9  &lt;html&gt;&lt;body&gt;&lt;div style=&quot;di...                    NaT   \n",
       "\n",
       "                                         parent.name  parent.id  release.id  \\\n",
       "8                                Requirement Backlog       1001     54001.0   \n",
       "9  [tech][On-premise] Prevent site upgrade in cas...     768060     69001.0   \n",
       "\n",
       "   team.id         team.name  product_areas.id product_areas.name  \\\n",
       "8   9005.0  Ehud - Guardians           77009.0    09 Team Backlog   \n",
       "9   9004.0   Neva - Avengers          110001.0      ElasticSearch   \n",
       "\n",
       "   application_modules.id application_modules.name  qa_owner.id  \\\n",
       "8                 77009.0          09 Team Backlog     162002.0   \n",
       "9                110001.0            ElasticSearch      35001.0   \n",
       "\n",
       "                     qa_owner.name  owner.id                    owner.name  \n",
       "8  channa.even-chen@microfocus.com       NaN                           NaN  \n",
       "9               tal@microfocus.com   11001.0  liat.orshizer@microfocus.com  "
      ]
     },
     "execution_count": 121,
     "metadata": {},
     "output_type": "execute_result"
    }
   ],
   "source": [
    "# build dataframe from dict\n",
    "df = pd.DataFrame(my_dic_data)\n",
    "# cleaning rows without labels OR descritpion\n",
    "df = df[df['team.id'].map(lambda x: x != None)]\n",
    "df = df[df['name'].map(lambda x: x != None)]\n",
    "train_df = df[df['description'].map(lambda x: x != None)]\n",
    "print(\"Original dataset shape is: \" + str(train_df.shape))\n",
    "\n",
    "# minimize data set\n",
    "train_df = train_df[train_df['creation_time'].map(lambda x: x.year >= 2018)]\n",
    "train_df = train_df.groupby('team.id').filter(lambda x : len(x)>2)\n",
    "print(\"Small dataset shape is: \" + str(train_df.shape))\n",
    "\n",
    "# building translation map from team id -> team name\n",
    "team_id_to_name_map = pd.Series(df['team.name'].values,index=df['team.id']).to_dict()\n",
    "# spliting Lables from features\n",
    "X = train_df.drop(['team.id'], axis=1)\n",
    "Y = train_df['team.id']\n",
    "\n",
    "train_df.head(n=2)"
   ]
  },
  {
   "cell_type": "markdown",
   "metadata": {},
   "source": [
    "# Know the data"
   ]
  },
  {
   "cell_type": "markdown",
   "metadata": {},
   "source": [
    "### Team defect distribution"
   ]
  },
  {
   "cell_type": "code",
   "execution_count": 122,
   "metadata": {},
   "outputs": [
    {
     "data": {
      "image/png": "[encoded data removed]",
      "text/plain": [
       "<Figure size 1008x360 with 1 Axes>"
      ]
     },
     "execution_count": 122,
     "metadata": {},
     "output_type": "execute_result"
    }
   ],
   "source": [
    "import matplotlib.pyplot as plt\n",
    "import nltk\n",
    "import seaborn as sns\n",
    "all_labels_image_name = 'gifs' + os.sep + 'team_bar_plot.pdf'\n",
    "\n",
    "def author_bar_plot(train_df, column):\n",
    "    fig = plt.gcf()\n",
    "    fig.set_size_inches(14, 5)\n",
    "    sns.countplot(x=train_df[column], order=train_df[column].value_counts().index).set_title(\n",
    "        'records count per ' + column)\n",
    "    plt.xticks(rotation='vertical', fontsize=5)\n",
    "    fig.tight_layout()\n",
    "    fig.savefig(all_labels_image_name, format='pdf')\n",
    "    plt.close()\n",
    "    return fig\n",
    "    \n",
    "author_bar_plot(train_df, 'team.name')"
   ]
  },
  {
   "cell_type": "markdown",
   "metadata": {},
   "source": [
    "as we have 6K documents labeled for Ehud team, a majority classifier score will be 6000 / 28K == 20% Accuracy!"
   ]
  },
  {
   "cell_type": "markdown",
   "metadata": {},
   "source": [
    "### Frequent words"
   ]
  },
  {
   "cell_type": "code",
   "execution_count": 123,
   "metadata": {},
   "outputs": [
    {
     "data": {
      "image/png": "[encoded data removed]",
      "text/plain": [
       "<Figure size 1008x216 with 1 Axes>"
      ]
     },
     "metadata": {
      "needs_background": "light"
     },
     "output_type": "display_data"
    }
   ],
   "source": [
    "all_tokens_image_name = 'gifs' + os.sep + 'team_token_plot.pdf'\n",
    "def plot_token_frequencies(train_df, referance_column='name', title_prefix='',\n",
    "                           output_path=all_tokens_image_name):\n",
    "    fig = plt.gcf()\n",
    "    fig.set_size_inches(14, 3)\n",
    "    fd = nltk.FreqDist([y for x in train_df[referance_column].str.split() for y in x])\n",
    "    if title_prefix != '':\n",
    "        title = title_prefix + ',token frequencies, top 30'\n",
    "    else:\n",
    "        title = 'token frequencies, top 30'\n",
    "\n",
    "    fd.plot(30, title=title)\n",
    "    fig.savefig(output_path + 'plot_token_frequencies_' + title_prefix + '.pdf', format='pdf')\n",
    "    plt.close()\n",
    "\n",
    "\n",
    "plot_token_frequencies(train_df)\n"
   ]
  },
  {
   "cell_type": "markdown",
   "metadata": {},
   "source": [
    "# Data preparation"
   ]
  },
  {
   "cell_type": "markdown",
   "metadata": {},
   "source": [
    "labels encoding"
   ]
  },
  {
   "cell_type": "code",
   "execution_count": 124,
   "metadata": {},
   "outputs": [
    {
     "name": "stdout",
     "output_type": "stream",
     "text": [
      "there are: 20 different labels in dataset, which corresponds to all teams\n"
     ]
    }
   ],
   "source": [
    "# label envoding\n",
    "from sklearn.preprocessing import LabelEncoder, LabelBinarizer\n",
    "le = LabelEncoder()\n",
    "encoded_labels = pd.DataFrame(le.fit_transform(train_df['team.id']))\n",
    "classes_number = encoded_labels.groupby(0).nunique().shape[0]\n",
    "all_labels = encoded_labels[0].unique()\n",
    "print('there are: ' + str(classes_number) + ' different labels in dataset, which corresponds to all teams')"
   ]
  },
  {
   "cell_type": "code",
   "execution_count": 125,
   "metadata": {},
   "outputs": [
    {
     "name": "stdout",
     "output_type": "stream",
     "text": [
      "train samples: (9215,) validation samples: (2304,)\n"
     ]
    }
   ],
   "source": [
    "# ensure that the model is not overfitting \n",
    "# train & validation tests with labels, test without\n",
    "xtrain, xvalid, ytrain, yvalid = train_test_split(train_df['name'], encoded_labels,\n",
    "                                                      stratify=encoded_labels,\n",
    "                                                      random_state=42,\n",
    "                                                      test_size=0.2, shuffle=True)\n",
    "\n",
    "\n",
    "print ('train samples: ' + str(xtrain.shape) + ' validation samples: ' + str(xvalid.shape))"
   ]
  },
  {
   "cell_type": "markdown",
   "metadata": {},
   "source": [
    "# Extract features"
   ]
  },
  {
   "cell_type": "code",
   "execution_count": 126,
   "metadata": {},
   "outputs": [],
   "source": [
    "from sklearn.base import BaseEstimator, TransformerMixin\n",
    "from collections import Counter\n",
    "\n",
    "class PosTagMatrix(BaseEstimator, TransformerMixin):\n",
    "    #normalise = True - devide all values by a total number of tags in the sentence\n",
    "    #tokenizer - take a custom tokenizer function\n",
    "    def __init__(self, tokenizer=lambda x: x.split(), normalize=True):\n",
    "        self.tokenizer=tokenizer\n",
    "        self.normalize=normalize\n",
    "\n",
    "    #helper function to tokenize and count parts of speech\n",
    "    def pos_func(self, sentence):\n",
    "        return Counter(tag for word,tag in nltk.pos_tag(self.tokenizer(sentence)))\n",
    "\n",
    "    # fit() doesn't do anything, this is a transformer class\n",
    "    def fit(self, X, y = None):\n",
    "        return self\n",
    "\n",
    "    #all the work is done here\n",
    "    def transform(self, X):\n",
    "        X_tagged = X.apply(self.pos_func).apply(pd.Series).fillna(0)\n",
    "        X_tagged['n_tokens'] = X_tagged.apply(sum, axis=1)\n",
    "        if self.normalize:\n",
    "            X_tagged = X_tagged.divide(X_tagged['n_tokens'], axis=0)\n",
    "\n",
    "        return X_tagged"
   ]
  },
  {
   "cell_type": "code",
   "execution_count": 127,
   "metadata": {},
   "outputs": [],
   "source": [
    "from sklearn.pipeline import Pipeline\n",
    "from sklearn.feature_extraction.text import CountVectorizer, TfidfTransformer, TfidfVectorizer\n",
    "from sklearn.linear_model import LogisticRegression\n",
    "\n",
    "# pipe2 = Pipeline([\n",
    "#     ('u1', FeatureUnion([\n",
    "#         ('tfdif_features', Pipeline([\n",
    "#             ('cv', CountVectorizer()),\n",
    "#             ('tfidf', TfidfTransformer()),\n",
    "#         ])),\n",
    "#         ('pos_features', Pipeline([\n",
    "#             ('pos', PosTagMatrix(tokenizer=nltk.word_tokenize) ),\n",
    "#         ])),\n",
    "#     ])),\n",
    "#     ('logit', LogisticRegression()),\n",
    "\n",
    "# ])\n"
   ]
  },
  {
   "cell_type": "code",
   "execution_count": 128,
   "metadata": {},
   "outputs": [],
   "source": [
    "# Fitting the Model\n",
    "# Our pipe1 object has all the properties of an estimator, so we can treat it as such. Hence, we call the fit() method.\n",
    "\n",
    "# Note that Pipeline \"knows\" that the first tho steps are transformers, so it will only call fit() and transform() on them, or just fit_transform() if it's defined for the class. For the LogisticRegression instance - our final model - only fit() will be called.\n",
    "# pipe1.fit(xtrain, ytrain)\n",
    "# pipe1.steps"
   ]
  },
  {
   "cell_type": "markdown",
   "metadata": {},
   "source": [
    "# Train & Evaluate validation set"
   ]
  },
  {
   "cell_type": "code",
   "execution_count": 129,
   "metadata": {},
   "outputs": [],
   "source": [
    "from sklearn.metrics import log_loss\n",
    "\n",
    "# pred = pipe1.predict_proba(xvalid)\n",
    "# xxx = pipe1.predict(xvalid)\n",
    "# log_loss(yvalid, pred)\n",
    "\n"
   ]
  },
  {
   "cell_type": "code",
   "execution_count": 130,
   "metadata": {},
   "outputs": [],
   "source": [
    "#set_params(cv__lowercase=True)\n",
    "# pipe1.set_params(cv__min_df=6, \n",
    "#                  cv__lowercase=False).fit(xtrain, ytrain)\n",
    "# pred = pipe1.predict_proba(xvalid)\n",
    "# predictions_classes = pipe1.predict(xvalid)\n",
    "# print (\"log loss: \" + str(log_loss(yvalid, pred)))\n",
    "# print(\"accuracy: %0.3f\" % (np.sum(predictions_classes == yvalid[0]) / len(yvalid[0])))\n"
   ]
  },
  {
   "cell_type": "code",
   "execution_count": 131,
   "metadata": {},
   "outputs": [],
   "source": [
    "import os\n",
    "from sklearn.base import BaseEstimator, TransformerMixin\n",
    "from sklearn.decomposition import TruncatedSVD\n",
    "import pandas as pd\n",
    "\n",
    "\n",
    "class CustomItemSelector(BaseEstimator, TransformerMixin):\n",
    "\n",
    "    def __init__(self, df, index):\n",
    "        self.index = index\n",
    "        self.df = df\n",
    "\n",
    "    def fit(self, X, y=None):\n",
    "        return self\n",
    "\n",
    "    def transform(self, X):\n",
    "        return pd.DataFrame(self.df[:, self.index])\n",
    "\n",
    "\n",
    "class ItemSelector(BaseEstimator, TransformerMixin):\n",
    "\n",
    "    def __init__(self, key):\n",
    "        self.key = key\n",
    "\n",
    "    def fit(self, x, y=None):\n",
    "        return self\n",
    "\n",
    "    def transform(self, data_dict):\n",
    "        return data_dict[self.key].values\n",
    "    \n",
    "class DateTransformer(BaseEstimator, TransformerMixin):\n",
    "\n",
    "    def fit(self, x, y=None):\n",
    "        return self\n",
    "\n",
    "    def transform(self, x):\n",
    "        return pd.DataFrame(x.apply(lambda x: (x.year % 2000) - 15))"
   ]
  },
  {
   "cell_type": "code",
   "execution_count": null,
   "metadata": {},
   "outputs": [],
   "source": []
  },
  {
   "cell_type": "code",
   "execution_count": 132,
   "metadata": {},
   "outputs": [
    {
     "name": "stderr",
     "output_type": "stream",
     "text": [
      "C:\\Users\\vaingato.CORPDOM\\AppData\\Local\\Continuum\\anaconda3\\lib\\site-packages\\sklearn\\utils\\validation.py:761: DataConversionWarning: A column-vector y was passed when a 1d array was expected. Please change the shape of y to (n_samples, ), for example using ravel().\n",
      "  y = column_or_1d(y, warn=True)\n"
     ]
    },
    {
     "name": "stdout",
     "output_type": "stream",
     "text": [
      "done training...\n"
     ]
    }
   ],
   "source": [
    "from sklearn.decomposition import PCA as sklearnPCA, TruncatedSVD\n",
    "from sklearn.pipeline import Pipeline, FeatureUnion\n",
    "from sklearn.svm import SVC\n",
    "from sklearn import preprocessing, decomposition, model_selection, metrics, pipeline\n",
    "word_dim_reduction = 1000\n",
    "\n",
    "\n",
    "# date_pipeline = Pipeline([\n",
    "#             ('selector', ItemSelector(key='creation_time')),\n",
    "#             ('date_transformer', DateTransformer())\n",
    "#         ])\n",
    "\n",
    "# cv_pipeline = Pipeline([\n",
    "#             ('sel', ItemSelector(key='name')),\n",
    "#             ('cv', CountVectorizer(analyzer='word', token_pattern=r'\\w{1,}',\n",
    "#                           ngram_range=(1, 2), stop_words='english')),\n",
    "#             ('svd', TruncatedSVD(n_components=word_dim_reduction))\n",
    "#         ])\n",
    "\n",
    "tfv = TfidfVectorizer(min_df=3,  max_features=None,\n",
    "            strip_accents='unicode', analyzer='word',token_pattern=r'\\w{1,}',\n",
    "            ngram_range=(1, 3), use_idf=1,smooth_idf=1,sublinear_tf=1,\n",
    "            stop_words = 'english')\n",
    "\n",
    "cv_pipeline = Pipeline([\n",
    "            ('tfidf', tfv),\n",
    "            ('svd', decomposition.TruncatedSVD(n_components=200)),\n",
    "            ('scale', preprocessing.StandardScaler())\n",
    "        ])\n",
    "\n",
    "xtrain_svd_scl  = cv_pipeline.fit_transform(xtrain, ytrain)\n",
    "\n",
    "# scl = preprocessing.StandardScaler()\n",
    "# scl.fit(xtrain_svd)\n",
    "# xtrain_svd_scl = scl.transform(xtrain_svd)\n",
    "# xvalid_svd_scl = scl.transform(xvalid_svd)\n",
    "\n",
    "# combined_features = FeatureUnion([\n",
    "#             (\"text_count_vectorizer_data\", cv_pipeline)\n",
    "# ])\n",
    "\n",
    "\n",
    "# transform validation\n",
    "xvalid_svd_scl  = cv_pipeline.transform(xvalid)\n",
    "\n",
    "clf = SVC(C=1.0, probability=True) # since we need probabilities\n",
    "clf.fit(xtrain_svd_scl, ytrain)\n",
    "predictions = clf.predict_proba(xvalid_svd_scl)\n",
    "predictions_classes = clf.predict(xvalid_svd_scl)\n",
    "\n",
    "\n",
    "# classifier = LogisticRegression(solver='sag', C=10)\n",
    "# classifier.fit(X_train_word_features, ytrain)\n",
    "# y_pred = classifier.predict(test_features)\n",
    "# y_pred_prob = classifier.predict_proba(test_features)[:, 1]\n",
    "print(\"done training...\")"
   ]
  },
  {
   "cell_type": "code",
   "execution_count": null,
   "metadata": {},
   "outputs": [],
   "source": [
    "\n"
   ]
  },
  {
   "cell_type": "code",
   "execution_count": null,
   "metadata": {},
   "outputs": [],
   "source": []
  },
  {
   "cell_type": "code",
   "execution_count": 133,
   "metadata": {},
   "outputs": [
    {
     "name": "stdout",
     "output_type": "stream",
     "text": [
      "Logistic regression measures:\n",
      "logloss: 0.873 \n",
      "accuracy: 0.748\n"
     ]
    }
   ],
   "source": [
    "print(\"Logistic regression measures:\")\n",
    "print(\"logloss: %0.3f \" % metrics.log_loss(yvalid, predictions))\n",
    "print(\"accuracy: %0.3f\" % (np.sum(predictions_classes == yvalid[0]) / len(yvalid[0])))"
   ]
  },
  {
   "cell_type": "code",
   "execution_count": null,
   "metadata": {
    "scrolled": false
   },
   "outputs": [],
   "source": []
  },
  {
   "cell_type": "markdown",
   "metadata": {},
   "source": [
    "# predict team by defect name"
   ]
  },
  {
   "cell_type": "code",
   "execution_count": 134,
   "metadata": {},
   "outputs": [],
   "source": [
    "def predict_by_string(string_to_predict):\n",
    "    column = pd.Series(np.array([string_to_predict])) \n",
    "    print(column.shape)\n",
    "    scaled_string = cv_pipeline.transform(column)\n",
    "    y_class = clf.predict(scaled_string)\n",
    "    print(\"y class: \" + str(y_class))\n",
    "    probabilities = clf.predict_proba(scaled_string)\n",
    "    \n",
    "    predicted_team_id = le.inverse_transform(y_class)[0]\n",
    "    team_name = team_id_to_name_map[predicted_team_id]\n",
    "    print (str(probabilities.max()) + \" probability it's: \" + team_name + \" labeled by \" + str(team_name))\n",
    "    return predictions, predictions_classes\n",
    "  "
   ]
  },
  {
   "cell_type": "code",
   "execution_count": 135,
   "metadata": {},
   "outputs": [
    {
     "name": "stdout",
     "output_type": "stream",
     "text": [
      "(1,)\n",
      "y class: [3]\n",
      "0.8871577029577432 probability it's: Neva - Avengers labeled by Neva - Avengers\n"
     ]
    },
    {
     "data": {
      "text/plain": [
       "(array([[1.55803823e-03, 2.78231406e-04, 3.52584876e-04, ...,\n",
       "         3.64940967e-04, 3.76210099e-04, 6.22791971e-04],\n",
       "        [5.44659386e-04, 1.76992210e-03, 1.53202196e-03, ...,\n",
       "         3.10904282e-02, 2.23153338e-03, 4.20730315e-04],\n",
       "        [5.66819471e-04, 2.84796012e-04, 6.21075922e-04, ...,\n",
       "         5.16636813e-04, 4.13441260e-04, 4.90896167e-04],\n",
       "        ...,\n",
       "        [1.23083792e-05, 1.44149113e-05, 1.76164446e-05, ...,\n",
       "         1.49650804e-05, 1.60003079e-05, 1.06555615e-05],\n",
       "        [4.51251589e-03, 7.43087474e-03, 5.33404845e-03, ...,\n",
       "         2.20864973e-02, 2.11057773e-02, 1.50801526e-03],\n",
       "        [8.45485383e-01, 1.11666979e-02, 6.26764050e-02, ...,\n",
       "         1.86851635e-03, 1.27116227e-03, 1.28337082e-03]]),\n",
       " array([13,  3, 13, ..., 13,  4,  0], dtype=int64))"
      ]
     },
     "execution_count": 135,
     "metadata": {},
     "output_type": "execute_result"
    }
   ],
   "source": [
    "predict_by_string(\"elastic search upgrade\")"
   ]
  },
  {
   "cell_type": "code",
   "execution_count": 136,
   "metadata": {},
   "outputs": [
    {
     "data": {
      "text/plain": [
       "array([ 8001.,  8003.,  9002.,  9004.,  9005.,  9007., 10001., 10002.,\n",
       "       11002., 11004., 14006., 20001., 23001., 23002., 38001., 39001.,\n",
       "       46001., 50001., 57001., 59001.])"
      ]
     },
     "execution_count": 136,
     "metadata": {},
     "output_type": "execute_result"
    }
   ],
   "source": []
  },
  {
   "cell_type": "markdown",
   "metadata": {},
   "source": [
    "# train test split: train, valid, test sets"
   ]
  },
  {
   "cell_type": "markdown",
   "metadata": {},
   "source": [
    "## regularization"
   ]
  },
  {
   "cell_type": "markdown",
   "metadata": {},
   "source": [
    "how to avoid overfitting\n",
    "- reduce layers\n",
    "- randomly neglect nodes from producing output in nn (dropout)\n",
    "- add regularization (penelize for large weights: loss + x) L2 regularization\n",
    "\n",
    "how to avoid underfitting - \n",
    "- encrease layers / nodes.\n",
    "- add additional features.\n",
    "\n",
    "to add regularization to layer:\n",
    "model.add(Dense(5, input_shape=(26,), kernal.regulizer=regulizers.l2(0.01), activation='relu'))\n"
   ]
  },
  {
   "cell_type": "markdown",
   "metadata": {},
   "source": [
    "# create the model with layers"
   ]
  },
  {
   "cell_type": "code",
   "execution_count": null,
   "metadata": {},
   "outputs": [],
   "source": [
    "\n"
   ]
  },
  {
   "cell_type": "code",
   "execution_count": 137,
   "metadata": {},
   "outputs": [
    {
     "ename": "NameError",
     "evalue": "name 'model' is not defined",
     "output_type": "error",
     "traceback": [
      "\u001b[1;31m---------------------------------------------------------------------------\u001b[0m",
      "\u001b[1;31mNameError\u001b[0m                                 Traceback (most recent call last)",
      "\u001b[1;32m<ipython-input-137-5f15418b3570>\u001b[0m in \u001b[0;36m<module>\u001b[1;34m\u001b[0m\n\u001b[1;32m----> 1\u001b[1;33m \u001b[0mmodel\u001b[0m\u001b[1;33m.\u001b[0m\u001b[0msummary\u001b[0m\u001b[1;33m(\u001b[0m\u001b[1;33m)\u001b[0m\u001b[1;33m\u001b[0m\u001b[1;33m\u001b[0m\u001b[0m\n\u001b[0m",
      "\u001b[1;31mNameError\u001b[0m: name 'model' is not defined"
     ]
    }
   ],
   "source": [
    "model.summary()"
   ]
  },
  {
   "cell_type": "markdown",
   "metadata": {},
   "source": [
    "# compile the module"
   ]
  },
  {
   "cell_type": "code",
   "execution_count": null,
   "metadata": {},
   "outputs": [],
   "source": []
  },
  {
   "cell_type": "markdown",
   "metadata": {},
   "source": [
    "# train the model"
   ]
  },
  {
   "cell_type": "code",
   "execution_count": null,
   "metadata": {},
   "outputs": [],
   "source": []
  },
  {
   "cell_type": "code",
   "execution_count": null,
   "metadata": {},
   "outputs": [],
   "source": [
    "print(\"done\")"
   ]
  }
 ],
 "metadata": {
  "kernelspec": {
   "display_name": "Python 3",
   "language": "python",
   "name": "python3"
  },
  "language_info": {
   "codemirror_mode": {
    "name": "ipython",
    "version": 3
   },
   "file_extension": ".py",
   "mimetype": "text/x-python",
   "name": "python",
   "nbconvert_exporter": "python",
   "pygments_lexer": "ipython3",
   "version": "3.7.3"
  }
 },
 "nbformat": 4,
 "nbformat_minor": 2
}
