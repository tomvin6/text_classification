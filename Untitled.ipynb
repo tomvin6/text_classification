{
 "cells": [
  {
   "cell_type": "code",
   "execution_count": 2,
   "metadata": {},
   "outputs": [],
   "source": [
    "\n"
   ]
  },
  {
   "cell_type": "code",
   "execution_count": 3,
   "metadata": {},
   "outputs": [],
   "source": [
    "def get_wc_feature(xtrain, xtest, ngram=1):\n",
    "    ctv = CountVectorizer(analyzer='word', token_pattern=r'\\w{1,}',\n",
    "                          ngram_range=(1, ngram))\n",
    "\n",
    "    ctv.fit(list(xtrain) + list(xtest))\n",
    "    xtrain_ctv = ctv.transform(xtrain)\n",
    "    xvalid_ctv = ctv.transform(xtest)\n",
    "    return xtrain_ctv, xvalid_ctv\n",
    "\n",
    "def get_wc_featur_with_max_features(xtrain, xtest, max_features=200):\n",
    "    ctv = CountVectorizer(analyzer='word', token_pattern=r'\\w{1,}',\n",
    "                          ngram_range=(1, 3), max_features=max_features)\n",
    "\n",
    "    ctv.fit(list(xtrain) + list(xtest))\n",
    "    xtrain_ctv = ctv.transform(xtrain)\n",
    "    xvalid_ctv = ctv.transform(xtest)\n",
    "    return xtrain_ctv, xvalid_ctv, ctv"
   ]
  },
  {
   "cell_type": "code",
   "execution_count": null,
   "metadata": {},
   "outputs": [],
   "source": []
  },
  {
   "cell_type": "code",
   "execution_count": null,
   "metadata": {},
   "outputs": [],
   "source": [
    "xtrain, xtest, ytrain, ytest = train_vali_split(train_df)\n",
    "    xtrain = pd.DataFrame(xtrain[referance_col])\n",
    "    xtrain = xtrain.rename(columns={referance_col: \"text\"})\n",
    "\n",
    "    xtest = pd.DataFrame(xtest[referance_col])\n",
    "    xtest = xtest.rename(columns={referance_col: \"text\"})\n",
    "\n",
    "    # FEATURE CALCULATION- NB\n",
    "    xtrain_ctv, xvalid_ctv = get_wc_feature(xtrain.text.values, xtest.text.values, ngram)\n",
    "\n",
    "    clfnb = MultinomialNB()\n",
    "    clfnb.fit(xtrain_ctv, ytrain)\n",
    "    predictions_classes_nb = clfnb.predict(xvalid_ctv)\n",
    "    predictions_nb = clfnb.predict_proba(xvalid_ctv)\n",
    "\n",
    "    print(\"MultinomialNB measures:\")\n",
    "    print(\"logloss: %0.3f \" % metrics.log_loss(ytest, predictions_nb))\n",
    "    print(\"accuracy: %0.3f\" % (np.sum(predictions_classes_nb == ytest) / len(ytest)))"
   ]
  }
 ],
 "metadata": {
  "kernelspec": {
   "display_name": "Python 3",
   "language": "python",
   "name": "python3"
  },
  "language_info": {
   "codemirror_mode": {
    "name": "ipython",
    "version": 3
   },
   "file_extension": ".py",
   "mimetype": "text/x-python",
   "name": "python",
   "nbconvert_exporter": "python",
   "pygments_lexer": "ipython3",
   "version": "3.7.3"
  }
 },
 "nbformat": 4,
 "nbformat_minor": 2
}
